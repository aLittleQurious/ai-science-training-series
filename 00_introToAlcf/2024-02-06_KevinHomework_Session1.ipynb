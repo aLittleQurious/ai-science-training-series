{
 "cells": [
  {
   "cell_type": "code",
   "execution_count": null,
   "id": "38400cef-a3e5-43b4-82b6-d33034bf37f9",
   "metadata": {},
   "outputs": [],
   "source": [
    "#Hello WOrld"
   ]
  },
  {
   "cell_type": "code",
   "execution_count": 1,
   "id": "9b3e0e2f-ff68-4fff-91e9-9409ea88ee2d",
   "metadata": {},
   "outputs": [
    {
     "name": "stdout",
     "output_type": "stream",
     "text": [
      "hello World!\n"
     ]
    }
   ],
   "source": [
    "print(\"hello World!\")"
   ]
  }
 ],
 "metadata": {
  "kernelspec": {
   "display_name": "Python 3 (ipykernel)",
   "language": "python",
   "name": "python3"
  },
  "language_info": {
   "codemirror_mode": {
    "name": "ipython",
    "version": 3
   },
   "file_extension": ".py",
   "mimetype": "text/x-python",
   "name": "python",
   "nbconvert_exporter": "python",
   "pygments_lexer": "ipython3",
   "version": "3.9.15"
  }
 },
 "nbformat": 4,
 "nbformat_minor": 5
}
